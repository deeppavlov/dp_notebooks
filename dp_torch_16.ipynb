{
 "cells": [
  {
   "cell_type": "markdown",
   "metadata": {
    "id": "znnCxJBtH8CW"
   },
   "source": [
    "# DeepPavlov - an Open-Source Conversational AI Framework \n",
    "\n",
    "---\n",
    "\n",
    "DeepPavlov is a conversational open-source library for Natural Language Processing (NLP) and Multiskill AI Assistant development. DeepPalvov is based on PyTorch. This article describes how to use our new Transformer-based models including, text classification, sequence classification, and question answering. The models are based on the Transformer library from Hugging Face. The library enables developers to use a wide variety of transformer-based models, moreover, we support Datasets from Hugging Face with hundreds of datasets to train your model."
   ]
  },
  {
   "cell_type": "markdown",
   "metadata": {
    "id": "4j_M8rXGH8CZ"
   },
   "source": [
    "![image info](https://static.tildacdn.com/tild3762-3666-4530-b139-666433343863/_DeepPavlov_-5.png)"
   ]
  },
  {
   "cell_type": "markdown",
   "metadata": {
    "id": "Kv5ZaTzDH8CZ"
   },
   "source": [
    "## Install DeepPavlov Library\n",
    "\n",
    "DeepPavlov Library is an open-source framework for NLP. It contains all essential state-of-the-art models for developing chatbots, including but not limited to text classification, sequence classification, question answering. But first, you should install DeepPavlov by running."
   ]
  },
  {
   "cell_type": "code",
   "execution_count": null,
   "metadata": {
    "colab": {
     "base_uri": "https://localhost:8080/"
    },
    "id": "Y1BYLN4vH8Ca",
    "outputId": "bc828cc2-6b3e-4bf0-809a-f19b87fb2dd4"
   },
   "outputs": [],
   "source": [
    "!pip install deeppavlov -q"
   ]
  },
  {
   "cell_type": "markdown",
   "metadata": {
    "id": "E4PHNHYXH8Cb"
   },
   "source": [
    "## QuickStart"
   ]
  },
  {
   "cell_type": "markdown",
   "metadata": {
    "id": "N1gv6Rx0H8Cc"
   },
   "source": [
    "The [DeepPavlov](https://deeppavlov.ai/) NLP pipelines are defined in the separate configuration files under the *config/faq* folder. List of models is available on\n",
    "[the doc page](http://docs.deeppavlov.ai/en/master/features/overview.html)\n",
    "\n",
    "When you are decided on the model and a configuration file, there are two ways to use it\n",
    "\n",
    "* via **Command Line Interface (CLI)**\n",
    "* via **Python**\n",
    "* via **Rise API**"
   ]
  },
  {
   "cell_type": "markdown",
   "metadata": {
    "id": "rBUqCHlQH8Cc"
   },
   "source": [
    "## How to use DeepPavlov Library\n",
    "\n",
    "---\n",
    "\n",
    "\n",
    "\n",
    "Let’s demonstrate the DeepPavlov CLI interface by running text classification model. It involves predicting whether a comment posted during a public discussion is considered insulting to one of the participants. Basically, this is a binary classification problem with only two classes: *Insult* and *Not Insult*. \n",
    "\n",
    "\n",
    "Before using the model you should install all it's requirements by running `install`. You can retrain the model by running it with `train` command. To get predictions from a model interactively through CLI, run `interact`. Dataset will be downloaded if `-d` flag is set."
   ]
  },
  {
   "cell_type": "code",
   "execution_count": null,
   "metadata": {
    "colab": {
     "base_uri": "https://localhost:8080/"
    },
    "id": "cwQJKJtDH8Cd",
    "outputId": "a6f45a8a-8160-42f6-de5e-ae78349663c9"
   },
   "outputs": [],
   "source": [
    "!python -m deeppavlov install insults_kaggle_bert_torch"
   ]
  },
  {
   "cell_type": "code",
   "execution_count": null,
   "metadata": {
    "id": "95bOdzGo9Dgx"
   },
   "outputs": [],
   "source": [
    "!python -m deeppavlov interact insults_kaggle_bert_torch -d"
   ]
  },
  {
   "cell_type": "code",
   "execution_count": null,
   "metadata": {
    "id": "pXltOAlZH8Cd"
   },
   "outputs": [],
   "source": [
    "!python -m deeppavlov train insults_kaggle_bert_torch -d"
   ]
  },
  {
   "cell_type": "markdown",
   "metadata": {
    "id": "oA2Sr33MH8Ce"
   },
   "source": [
    "The detailed description of the commands can be found in our docs."
   ]
  },
  {
   "cell_type": "markdown",
   "metadata": {
    "id": "z0iYDicyH8Cf"
   },
   "source": [
    "---\n",
    "\n",
    "## DeepPavlov for Text Classification\n",
    "\n",
    "\n"
   ]
  },
  {
   "cell_type": "markdown",
   "metadata": {
    "id": "Dt3fftfnH8Cf"
   },
   "source": [
    "Let's demonstrate the DeepPavlov BERT-based text classification models using the insult detection problem. This problem involves predicting whether a comment posted during a public discussion is considered insulting to one of the participants. This is a binary classification problem with only two classes: Insult and Not Insult.\n",
    "\n",
    "To interact with the model, first, you need to build_model. The download=True parameter indicates that we want to use an already pre-trained model:"
   ]
  },
  {
   "cell_type": "code",
   "execution_count": null,
   "metadata": {
    "colab": {
     "base_uri": "https://localhost:8080/",
     "height": 767
    },
    "id": "z7zdWLmHH8Cf",
    "outputId": "30b177f7-96b3-4cf5-92b4-396c91c3cf86"
   },
   "outputs": [],
   "source": [
    "from deeppavlov import build_model, configs\n",
    "model = build_model(configs.classifiers.insults_kaggle_bert_torch, download=True)\n",
    "model(['hey, how are you?', 'You are so dumb!'])"
   ]
  },
  {
   "cell_type": "markdown",
   "metadata": {
    "id": "dV7fK1-yH8Cg"
   },
   "source": [
    "You can evaluate the model by running `evaluate_model`"
   ]
  },
  {
   "cell_type": "code",
   "execution_count": null,
   "metadata": {
    "colab": {
     "base_uri": "https://localhost:8080/",
     "height": 323
    },
    "id": "QK1_m0AxH8Cg",
    "outputId": "2e8daffe-c0e2-4dde-e447-ad8c588c8d8b"
   },
   "outputs": [],
   "source": [
    "from deeppavlov import evaluate_model\n",
    "evaluate_model(configs.classifiers.insults_kaggle_bert_torch)"
   ]
  },
  {
   "cell_type": "markdown",
   "metadata": {
    "id": "354WVIJQH8Cg"
   },
   "source": [
    "You can always use different version of transformer by specifying the TRANSFORMER variables in the metadata section, for example, `albert-base-v2`, `distilbert-base-uncased`, `bert-base-uncased`. Then you can retrain the model and check the results."
   ]
  },
  {
   "cell_type": "code",
   "execution_count": null,
   "metadata": {
    "id": "SCxbdqMQVlGk"
   },
   "outputs": [],
   "source": [
    "import json\n",
    "from deeppavlov import train_model\n",
    "\n",
    "config = json.load(open(configs.classifiers.insults_kaggle_bert_torch))\n",
    "config['metadata']['variables']['MODEL_PATH'] = \"{MODELS_PATH}/classifiers/insults_kaggle_torch_bert/{TRANSFORMER}\"\n",
    "config['metadata']['variables']['TRANSFORMER'] = \"distilbert-base-uncased\"\n",
    "model = train_model(configs.classifiers.insults_kaggle_bert_torch)\n",
    "evaluate_model(model)"
   ]
  },
  {
   "cell_type": "markdown",
   "metadata": {
    "id": "7fn0YVySLOQs"
   },
   "source": [
    "---\n",
    "\n",
    "## DeepPavlov for Named Entity Recognition\n",
    "\n",
    "\n",
    "DeepPavlov Transformers-based models can be used for sequence classification tasks such as Named Entity Recognition (NER) and Part of Speech (POS) tagging. For example, we want to extract persons' and organizations' names from the text. Then for the input text:\n",
    "\n",
    "    Yan Goodfellow works for Google Brain\n",
    "\n",
    "a NER model needs to provide the following sequence of tags:\n",
    "\n",
    "    B-PER I-PER    O     O   B-ORG  I-ORG\n",
    "\n",
    "Where B- and I- prefixes stand for the beginning and inside of the entity, while O stands for out of tag or no tag. Markup with the prefix scheme is called BIO markup. This markup is introduced for distinguishing consequent entities with similar types.\n",
    "You can interact with the modela via the CLI."
   ]
  },
  {
   "cell_type": "code",
   "execution_count": null,
   "metadata": {},
   "outputs": [],
   "source": [
    "!python -m deeppavlov install ner_ontonotes_bert_torch.json\n",
    "!python -m deeppavlov interact ner_ontonotes_bert_torch.json -d"
   ]
  },
  {
   "cell_type": "markdown",
   "metadata": {},
   "source": [
    "and via the Python code"
   ]
  },
  {
   "cell_type": "code",
   "execution_count": null,
   "metadata": {
    "id": "tTO6sguyQB5R"
   },
   "outputs": [],
   "source": [
    "from deeppavlov import build_model, configs\n",
    "ner = build_model(configs.ner.ner_ontonotes_bert_torch, download=True)\n",
    "ner([\"Computer Sciences Corp . , El Segundo , Calif . , said it is close to making final an agreement to buy Cleveland Consulting Associates from Saatchi & Saatchi\"])"
   ]
  },
  {
   "cell_type": "markdown",
   "metadata": {
    "id": "GVWmKB7GPtjN"
   },
   "source": [
    "![ner.png](data:image/png;base64,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)"
   ]
  },
  {
   "cell_type": "markdown",
   "metadata": {
    "id": "Ls1ESS-FUNBY"
   },
   "source": [
    "Usually, for every Transformer based model, you can find two versions: the English version and the multilingual version (trained in 103 languages). The multilingual transformer can transfer knowledge between languages, for example, you can fine-tune a model on one language and evaluate the model on another. More about language transfer you can find here."
   ]
  },
  {
   "cell_type": "code",
   "execution_count": null,
   "metadata": {
    "id": "QONfgeYTSrRp"
   },
   "outputs": [],
   "source": [
    "!python -m deeppavlov install ner_ontonotes_bert_mult_torch"
   ]
  },
  {
   "cell_type": "markdown",
   "metadata": {},
   "source": [
    "Then interact with it via the Python code"
   ]
  },
  {
   "cell_type": "code",
   "execution_count": null,
   "metadata": {
    "id": "XAhvLCtiPGTo"
   },
   "outputs": [],
   "source": [
    "from deeppavlov import build_model, configs\n",
    "ner_mult = build_model(configs.ner.ner_ontonotes_bert_mult_torch, download=True)\n",
    "ner_mult(['Curling World Championship will be held in Antananarivo',\n",
    "          'Чемпионат мира по кёрлингу пройдёт в Антананариву'])"
   ]
  },
  {
   "cell_type": "markdown",
   "metadata": {
    "id": "LN7wpJzNTRRy"
   },
   "source": [
    "![ner_mult.png](data:image/png;base64,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)"
   ]
  },
  {
   "cell_type": "markdown",
   "metadata": {
    "id": "xVfBz6heLTdd"
   },
   "source": [
    "---\n",
    "\n",
    "## DeepPavlov for Question Answering\n",
    "\n",
    "\n",
    "One can use DeepPavlov for extractive Question Answering (QA). Question Answering can be achieved by using the Reading Comprehension approach that seeks an answer in the given text. The Natural Language Processing (NLP) community has been working on this task for quite a while. Question Answering on SQuAD dataset is a task to find an answer to a question in a given context (e.g., a paragraph from Wikipedia), where the answer to each question is a segment of the context."
   ]
  },
  {
   "cell_type": "markdown",
   "metadata": {},
   "source": [
    "```\n",
    "CONTEXT:\n",
    "    In meteorology, precipitation is any product of the condensation of atmospheric water vapor that falls under gravity. The main forms of precipitation include drizzle, rain, sleet, snow, graupel and hail… Precipitation forms as smaller droplets coalesce via collision with other rain drops or ice crystals within a cloud. Short, intense periods of rain in scattered locations are called “showers”.\n",
    "\n",
    "QUESTION:\n",
    "    Where do water droplets collide with ice crystals to form precipitation?\n",
    "    \n",
    "ANSWER:\n",
    "    within a cloud\n",
    "   \n",
    "```"
   ]
  },
  {
   "cell_type": "markdown",
   "metadata": {},
   "source": [
    "Intstall the model's requirements"
   ]
  },
  {
   "cell_type": "markdown",
   "metadata": {
    "id": "lCX2F62fsZZx"
   },
   "source": [
    "# !python -m deeppavlov install squad_torch_bert"
   ]
  },
  {
   "cell_type": "markdown",
   "metadata": {},
   "source": [
    "Then interact with the model via the Python code"
   ]
  },
  {
   "cell_type": "code",
   "execution_count": null,
   "metadata": {
    "id": "G5QLtqtxN-4S"
   },
   "outputs": [],
   "source": [
    "from deeppavlov import build_model, configs\n",
    "model = build_model(configs.squad.squad_torch_bert, download=True)\n",
    "model(['In meteorology, precipitation is any product of the condensation of atmospheric water vapor that falls under gravity. The main forms of precipitation include drizzle, rain, sleet, snow, graupel and hail… Precipitation forms as smaller droplets coalesce via collision with other rain drops or ice crystals within a cloud. Short, intense periods of rain in scattered locations are called “showers”.'], \n",
    "      ['Where do water droplets collide with ice crystals to form precipitation?'])"
   ]
  },
  {
   "cell_type": "markdown",
   "metadata": {
    "id": "k7zYx9o7OIUO"
   },
   "source": [
    "Model returns an answer, position in characters and confidence."
   ]
  },
  {
   "cell_type": "markdown",
   "metadata": {
    "id": "iVnFldlmH8Ck"
   },
   "source": [
    "# Useful Links\n",
    "---\n",
    "\n",
    "[DeepPavlov Repository](https://github.com/deepmipt/DeepPavlov)\n",
    "\n",
    "[DeepPavlov Demo Page](https://demo.deeppavlov.ai)\n",
    "\n",
    "[DeepPavlov Documentation](https://docs.deeppavlov.ai)\n",
    "\n",
    "[Our Forum](https://forum.deeppavlov.ai)\n",
    "\n",
    "[Our Medium](https://medium.com/deeppavlov)"
   ]
  }
 ],
 "metadata": {
  "colab": {
   "collapsed_sections": [],
   "name": "Копия блокнота \"dp_torch.ipynb\"",
   "provenance": []
  },
  "kernelspec": {
   "display_name": "py37",
   "language": "python",
   "name": "py37"
  },
  "language_info": {
   "codemirror_mode": {
    "name": "ipython",
    "version": 3
   },
   "file_extension": ".py",
   "mimetype": "text/x-python",
   "name": "python",
   "nbconvert_exporter": "python",
   "pygments_lexer": "ipython3",
   "version": "3.7.10"
  }
 },
 "nbformat": 4,
 "nbformat_minor": 4
}
