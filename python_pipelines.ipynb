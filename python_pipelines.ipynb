{
 "cells": [
  {
   "cell_type": "markdown",
   "id": "e32cab03",
   "metadata": {},
   "source": [
    "### Building insults detector using python\n",
    "\n",
    "The code below is an alternative to writing a [config file](https://github.com/deepmipt/DeepPavlov/blob/0.17.1/deeppavlov/configs/classifiers/insults_kaggle_bert_torch.json) and using it with \n",
    "\n",
    "```python\n",
    "model = build_model('insults_kaggle_bert_torch', download=True)\n",
    "```"
   ]
  },
  {
   "cell_type": "code",
   "execution_count": null,
   "id": "d37bb701",
   "metadata": {},
   "outputs": [],
   "source": [
    "from pathlib import Path\n",
    "\n",
    "from deeppavlov import Element, Model\n",
    "from deeppavlov.core.data.simple_vocab import SimpleVocabulary\n",
    "from deeppavlov.download import download_resource\n",
    "from deeppavlov.models.classifiers.proba2labels import Proba2Labels\n",
    "from deeppavlov.models.preprocessors.torch_transformers_preprocessor import TorchTransformersPreprocessor\n",
    "from deeppavlov.models.torch_bert.torch_transformers_classifier import TorchTransformersClassifierModel\n",
    "\n",
    "\n",
    "model_path = Path('~/.deeppavlov/models/classifiers/insults_kaggle_torch_bert')\n",
    "\n",
    "# Downloading pretrained model\n",
    "download_resource(\n",
    "    'http://files.deeppavlov.ai/deeppavlov_data/classifiers/insults_kaggle_torch_bert_v0.tar.gz',\n",
    "    {'~/.deeppavlov/models/classifiers'}\n",
    ")\n",
    "\n",
    "preprocessor = TorchTransformersPreprocessor(\n",
    "    vocab_file='bert-base-uncased',\n",
    "    do_lower_case=True,\n",
    "    max_seq_length=64\n",
    ")\n",
    "\n",
    "classes_vocab = SimpleVocabulary(\n",
    "    save_path=model_path/'classes.dict',\n",
    "    load_path=model_path/'classes.dict'\n",
    ")\n",
    "\n",
    "classifier = TorchTransformersClassifierModel(\n",
    "    n_classes=classes_vocab.len,\n",
    "    return_probas=True,\n",
    "    pretrained_bert='bert-base-uncased',\n",
    "    save_path=model_path/'model',\n",
    "    load_path=model_path/'model',\n",
    "    optimizer='AdamW',\n",
    "    optimizer_parameters={'lr': 1e-05},\n",
    "    learning_rate_drop_patience=5,\n",
    "    learning_rate_drop_div=2.0\n",
    ")\n",
    "\n",
    "proba2labels = Proba2Labels(max_proba=True)\n",
    "\n",
    "model = Model(\n",
    "    x=['x'],\n",
    "    out=['y_pred_labels'],\n",
    "    pipe=[\n",
    "        Element(component=preprocessor, x=['x'], out=['bert_features']),\n",
    "        Element(component=classifier, x=['bert_features'], out=['y_pred_probas']),\n",
    "        Element(component=proba2labels, x=['y_pred_probas'], out=['y_pred_ids']),\n",
    "        Element(component=classes_vocab, x=['y_pred_ids'], out=['y_pred_labels'])\n",
    "    ]\n",
    ")\n",
    "\n",
    "# Using model\n",
    "model(['you are stupid', 'you are smart'])"
   ]
  }
 ],
 "metadata": {
  "kernelspec": {
   "display_name": "Python 3 (ipykernel)",
   "language": "python",
   "name": "python3"
  },
  "language_info": {
   "codemirror_mode": {
    "name": "ipython",
    "version": 3
   },
   "file_extension": ".py",
   "mimetype": "text/x-python",
   "name": "python",
   "nbconvert_exporter": "python",
   "pygments_lexer": "ipython3",
   "version": "3.7.7"
  }
 },
 "nbformat": 4,
 "nbformat_minor": 5
}
